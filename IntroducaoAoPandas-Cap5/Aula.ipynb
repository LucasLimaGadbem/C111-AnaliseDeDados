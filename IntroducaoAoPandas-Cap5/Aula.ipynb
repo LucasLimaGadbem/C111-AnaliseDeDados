{
 "cells": [
  {
   "cell_type": "markdown",
   "metadata": {},
   "source": [
    "# Anotações: \n",
    "\n",
    "No pandas há duas estruturas, sendo elas:\n",
    "- Series - 1-d ou seja, é um vetor\n",
    "\n",
    "  -> labels\n",
    "\n",
    "  -> dados\n",
    "- Dataframe - 2-d+\n",
    "\n",
    "  -> labels(x)\n",
    "\n",
    "  ->columns(y)\n",
    "\n",
    "  ->dados"
   ]
  },
  {
   "cell_type": "markdown",
   "metadata": {},
   "source": [
    "### Panda Series"
   ]
  },
  {
   "cell_type": "code",
   "execution_count": 14,
   "metadata": {},
   "outputs": [],
   "source": [
    "import pandas as pd\n",
    "import numpy as np"
   ]
  },
  {
   "cell_type": "code",
   "execution_count": 15,
   "metadata": {},
   "outputs": [
    {
     "name": "stdout",
     "output_type": "stream",
     "text": [
      "a    10\n",
      "b    20\n",
      "c    30\n",
      "dtype: int64\n",
      "<class 'pandas.core.series.Series'>\n"
     ]
    }
   ],
   "source": [
    "labels = ['a', 'b', 'c']\n",
    "dados = [10, 20, 30]\n",
    "# é boa pratica passar o index, se não passar ele irá criar um index de 0 a n\n",
    "# criando uma series com duas listas\n",
    "s1 = pd.Series(index=labels, data=dados)\n",
    "# criando uma series com um dicionario\n",
    "s2 = pd.Series({'a':10, 'c':50, 'd':80})\n",
    "\n",
    "print(s1)\n",
    "print(type(s1))"
   ]
  },
  {
   "cell_type": "code",
   "execution_count": 16,
   "metadata": {},
   "outputs": [
    {
     "name": "stdout",
     "output_type": "stream",
     "text": [
      "20\n"
     ]
    }
   ],
   "source": [
    "#chamando um valor da series\n",
    "print(s1['b'])"
   ]
  },
  {
   "cell_type": "code",
   "execution_count": 17,
   "metadata": {},
   "outputs": [
    {
     "name": "stdout",
     "output_type": "stream",
     "text": [
      "a    20.0\n",
      "b     NaN\n",
      "c    80.0\n",
      "d     NaN\n",
      "dtype: float64\n",
      "a    20.0\n",
      "b    20.0\n",
      "c    80.0\n",
      "d    80.0\n",
      "dtype: float64\n"
     ]
    }
   ],
   "source": [
    "# operacoes entre series\n",
    "print(s1 + s2) #se tiver um valor que não existe em uma das series ele irá retornar NaN\n",
    "print(s1.add(s2, fill_value=0)) #se nao tiver um valor ele irá adicionar o valor 0"
   ]
  },
  {
   "cell_type": "code",
   "execution_count": 23,
   "metadata": {},
   "outputs": [
    {
     "name": "stdout",
     "output_type": "stream",
     "text": [
      "a    10\n",
      "c    30\n",
      "dtype: int64\n",
      "b    20\n",
      "c    30\n",
      "dtype: int64\n"
     ]
    }
   ],
   "source": [
    "#acessar apenas o que precisamos\n",
    "print(s1[['a','c']]) #como é mais de um indice é necessario passar uma lista\n",
    "print(s1[1:]) #passando um range de indices"
   ]
  },
  {
   "cell_type": "code",
   "execution_count": 25,
   "metadata": {},
   "outputs": [
    {
     "name": "stdout",
     "output_type": "stream",
     "text": [
      "c    30\n",
      "dtype: int64\n",
      "c    30\n",
      "dtype: int64\n",
      "b    20\n",
      "dtype: int64\n"
     ]
    }
   ],
   "source": [
    "#condicionais no pandas é identico ao do numpy\n",
    "print(s1[s1 > 25]) #retorna apenas os valores maiores que 25\n",
    "print(s1[s1 > s1.mean()]) #retorna apenas os valores maiores que a media\n",
    "print(s1[s1/2 == 10]) #retorna apenas os valores que divididos por 2 são iguais a 10"
   ]
  },
  {
   "cell_type": "markdown",
   "metadata": {},
   "source": [
    "### Pandas DataFrame"
   ]
  },
  {
   "cell_type": "code",
   "execution_count": null,
   "metadata": {},
   "outputs": [
    {
     "name": "stdout",
     "output_type": "stream",
     "text": [
      "    W   X   Y   Z\n",
      "A  10  37  16   1\n",
      "B  29  26  30  49\n",
      "C  30   9  10   1\n",
      "D  43  41  37  17\n",
      "E  37  48  12  25\n"
     ]
    }
   ],
   "source": [
    "#Lembrar: a estrutura do DataFrame é similar ao do Excel\n",
    "\n",
    "#plantando uma semente aleatoria\n",
    "np.random.seed(10)\n",
    "\n",
    "#criando um DataFrame\n",
    "df = pd.DataFrame(\n",
    "    index = ['A', 'B', 'C', 'D', 'E'],\n",
    "    columns= ['W', 'X', 'Y', 'Z'],\n",
    "    data = np.random.randint(1, 50, [5, 4])\n",
    ")\n",
    "print(df)"
   ]
  },
  {
   "cell_type": "code",
   "execution_count": 37,
   "metadata": {},
   "outputs": [
    {
     "name": "stdout",
     "output_type": "stream",
     "text": [
      "    W   Z\n",
      "A  10   1\n",
      "B  29  49\n",
      "C  30   1\n",
      "D  43  17\n",
      "E  37  25\n",
      "26\n"
     ]
    }
   ],
   "source": [
    "#slicing com multiplas colunas\n",
    "print(df[['W', 'Z']]) #retorna as colunas W e Z\n",
    "\n",
    "#acessando um elemento expecifico\n",
    "#coluna e depois linha\n",
    "print(df['X']['B']) #retorna o valor da coluna W na linha A"
   ]
  },
  {
   "cell_type": "code",
   "execution_count": 47,
   "metadata": {},
   "outputs": [
    {
     "name": "stdout",
     "output_type": "stream",
     "text": [
      "    W   X   Z\n",
      "A  10  37   1\n",
      "B  29  26  49\n",
      "    W   X   Y   Z\n",
      "A  10  37  16   1\n",
      "B  29  26  30  49\n"
     ]
    }
   ],
   "source": [
    "#fazendo slicing com loc() ou iloc() - loc = localization, iloc = index localization\n",
    "\n",
    "#loc() é baseado no nome do indice\n",
    "#print(df.loc[['A','B'],['W','X', 'Y', 'Z']])\n",
    "print(df.loc[['A','B'],['W','X', 'Z']])\n",
    "\n",
    "#iloc() é baseado no numero do indice\n",
    "print(df.iloc[0:2, 0:])"
   ]
  }
 ],
 "metadata": {
  "kernelspec": {
   "display_name": "Python 3",
   "language": "python",
   "name": "python3"
  },
  "language_info": {
   "codemirror_mode": {
    "name": "ipython",
    "version": 3
   },
   "file_extension": ".py",
   "mimetype": "text/x-python",
   "name": "python",
   "nbconvert_exporter": "python",
   "pygments_lexer": "ipython3",
   "version": "3.12.4"
  }
 },
 "nbformat": 4,
 "nbformat_minor": 2
}
