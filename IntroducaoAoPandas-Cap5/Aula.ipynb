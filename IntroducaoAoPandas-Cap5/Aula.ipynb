{
 "cells": [
  {
   "cell_type": "markdown",
   "metadata": {},
   "source": [
    "# Anotações: \n",
    "\n",
    "No pandas há duas estruturas, sendo elas:\n",
    "- Series - 1-d ou seja, é um vetor\n",
    "\n",
    "  -> labels\n",
    "\n",
    "  -> dados\n",
    "- Dataframe - 2-d+\n",
    "\n",
    "  -> labels(x)\n",
    "\n",
    "  ->columns(y)\n",
    "\n",
    "  ->dados"
   ]
  },
  {
   "cell_type": "markdown",
   "metadata": {},
   "source": [
    "### Panda Series"
   ]
  },
  {
   "cell_type": "code",
   "execution_count": 2,
   "metadata": {},
   "outputs": [],
   "source": [
    "import pandas as pd\n",
    "import numpy as np"
   ]
  },
  {
   "cell_type": "code",
   "execution_count": 15,
   "metadata": {},
   "outputs": [
    {
     "name": "stdout",
     "output_type": "stream",
     "text": [
      "a    10\n",
      "b    20\n",
      "c    30\n",
      "dtype: int64\n",
      "<class 'pandas.core.series.Series'>\n"
     ]
    }
   ],
   "source": [
    "labels = ['a', 'b', 'c']\n",
    "dados = [10, 20, 30]\n",
    "# é boa pratica passar o index, se não passar ele irá criar um index de 0 a n\n",
    "# criando uma series com duas listas\n",
    "s1 = pd.Series(index=labels, data=dados)\n",
    "# criando uma series com um dicionario\n",
    "s2 = pd.Series({'a':10, 'c':50, 'd':80})\n",
    "\n",
    "print(s1)\n",
    "print(type(s1))"
   ]
  },
  {
   "cell_type": "code",
   "execution_count": 16,
   "metadata": {},
   "outputs": [
    {
     "name": "stdout",
     "output_type": "stream",
     "text": [
      "20\n"
     ]
    }
   ],
   "source": [
    "#chamando um valor da series\n",
    "print(s1['b'])"
   ]
  },
  {
   "cell_type": "code",
   "execution_count": 17,
   "metadata": {},
   "outputs": [
    {
     "name": "stdout",
     "output_type": "stream",
     "text": [
      "a    20.0\n",
      "b     NaN\n",
      "c    80.0\n",
      "d     NaN\n",
      "dtype: float64\n",
      "a    20.0\n",
      "b    20.0\n",
      "c    80.0\n",
      "d    80.0\n",
      "dtype: float64\n"
     ]
    }
   ],
   "source": [
    "# operacoes entre series\n",
    "print(s1 + s2) #se tiver um valor que não existe em uma das series ele irá retornar NaN\n",
    "print(s1.add(s2, fill_value=0)) #se nao tiver um valor ele irá adicionar o valor 0"
   ]
  },
  {
   "cell_type": "code",
   "execution_count": 23,
   "metadata": {},
   "outputs": [
    {
     "name": "stdout",
     "output_type": "stream",
     "text": [
      "a    10\n",
      "c    30\n",
      "dtype: int64\n",
      "b    20\n",
      "c    30\n",
      "dtype: int64\n"
     ]
    }
   ],
   "source": [
    "#acessar apenas o que precisamos\n",
    "print(s1[['a','c']]) #como é mais de um indice é necessario passar uma lista\n",
    "print(s1[1:]) #passando um range de indices"
   ]
  },
  {
   "cell_type": "code",
   "execution_count": 25,
   "metadata": {},
   "outputs": [
    {
     "name": "stdout",
     "output_type": "stream",
     "text": [
      "c    30\n",
      "dtype: int64\n",
      "c    30\n",
      "dtype: int64\n",
      "b    20\n",
      "dtype: int64\n"
     ]
    }
   ],
   "source": [
    "#condicionais no pandas é identico ao do numpy\n",
    "print(s1[s1 > 25]) #retorna apenas os valores maiores que 25\n",
    "print(s1[s1 > s1.mean()]) #retorna apenas os valores maiores que a media\n",
    "print(s1[s1/2 == 10]) #retorna apenas os valores que divididos por 2 são iguais a 10"
   ]
  },
  {
   "cell_type": "markdown",
   "metadata": {},
   "source": [
    "### Pandas DataFrame"
   ]
  },
  {
   "cell_type": "code",
   "execution_count": null,
   "metadata": {},
   "outputs": [
    {
     "name": "stdout",
     "output_type": "stream",
     "text": [
      "    W   X   Y   Z\n",
      "A  10  37  16   1\n",
      "B  29  26  30  49\n",
      "C  30   9  10   1\n",
      "D  43  41  37  17\n",
      "E  37  48  12  25\n"
     ]
    }
   ],
   "source": [
    "#Lembrar: a estrutura do DataFrame é similar ao do Excel\n",
    "\n",
    "#plantando uma semente aleatoria\n",
    "np.random.seed(10)\n",
    "\n",
    "#criando um DataFrame\n",
    "df = pd.DataFrame(\n",
    "    index = ['A', 'B', 'C', 'D', 'E'],\n",
    "    columns= ['W', 'X', 'Y', 'Z'],\n",
    "    data = np.random.randint(1, 50, [5, 4])\n",
    ")\n",
    "print(df)"
   ]
  },
  {
   "cell_type": "code",
   "execution_count": 37,
   "metadata": {},
   "outputs": [
    {
     "name": "stdout",
     "output_type": "stream",
     "text": [
      "    W   Z\n",
      "A  10   1\n",
      "B  29  49\n",
      "C  30   1\n",
      "D  43  17\n",
      "E  37  25\n",
      "26\n"
     ]
    }
   ],
   "source": [
    "#slicing com multiplas colunas\n",
    "print(df[['W', 'Z']]) #retorna as colunas W e Z\n",
    "\n",
    "#acessando um elemento expecifico\n",
    "#coluna e depois linha\n",
    "print(df['X']['B']) #retorna o valor da coluna W na linha A"
   ]
  },
  {
   "cell_type": "code",
   "execution_count": 47,
   "metadata": {},
   "outputs": [
    {
     "name": "stdout",
     "output_type": "stream",
     "text": [
      "    W   X   Z\n",
      "A  10  37   1\n",
      "B  29  26  49\n",
      "    W   X   Y   Z\n",
      "A  10  37  16   1\n",
      "B  29  26  30  49\n"
     ]
    }
   ],
   "source": [
    "#fazendo slicing com loc() ou iloc() - loc = localization, iloc = index localization\n",
    "\n",
    "#loc() é baseado no nome do indice\n",
    "#print(df.loc[['A','B'],['W','X', 'Y', 'Z']])\n",
    "print(df.loc[['A','B'],['W','X', 'Z']])\n",
    "\n",
    "#iloc() é baseado no numero do indice\n",
    "print(df.iloc[0:2, 0:])"
   ]
  },
  {
   "cell_type": "markdown",
   "metadata": {},
   "source": [
    "### Carregando dados com Pandas"
   ]
  },
  {
   "cell_type": "code",
   "execution_count": 9,
   "metadata": {},
   "outputs": [
    {
     "name": "stdout",
     "output_type": "stream",
     "text": [
      "Index(['Country', 'Region', 'Population', 'Area (sq. mi.)',\n",
      "       'Pop. Density (per sq. mi.)', 'Coastline (coast/area ratio)',\n",
      "       'Net migration', 'Infant mortality (per 1000 births)',\n",
      "       'GDP ($ per capita)', 'Literacy (%)', 'Phones (per 1000)', 'Arable (%)',\n",
      "       'Crops (%)', 'Other (%)', 'Climate', 'Birthrate', 'Deathrate',\n",
      "       'Agriculture', 'Industry', 'Service'],\n",
      "      dtype='object')\n",
      "        Country                               Region  Population  \\\n",
      "0  Afghanistan         ASIA (EX. NEAR EAST)             31056997   \n",
      "1      Albania   EASTERN EUROPE                          3581655   \n",
      "2      Algeria   NORTHERN AFRICA                        32930091   \n",
      "\n",
      "   Area (sq. mi.)  Pop. Density (per sq. mi.)  Coastline (coast/area ratio)  \\\n",
      "0          647500                        48.0                          0.00   \n",
      "1           28748                       124.6                          1.26   \n",
      "2         2381740                        13.8                          0.04   \n",
      "\n",
      "   Net migration  Infant mortality (per 1000 births)  GDP ($ per capita)  \\\n",
      "0          23.06                              163.07                 700   \n",
      "1          -4.93                               21.52                4500   \n",
      "2          -0.39                               31.00                6000   \n",
      "\n",
      "   Literacy (%)  Phones (per 1000)  Arable (%)  Crops (%)  Other (%)  Climate  \\\n",
      "0          36.0                3.2       12.13       0.22      87.65      1.0   \n",
      "1          86.5               71.2       21.09       4.42      74.49      3.0   \n",
      "2          70.0               78.1        3.22       0.25      96.53      1.0   \n",
      "\n",
      "   Birthrate  Deathrate  Agriculture  Industry  Service  \n",
      "0      46.60      20.34        0.380     0.240    0.380  \n",
      "1      15.11       5.22        0.232     0.188    0.579  \n",
      "2      17.14       4.61        0.101     0.600    0.298  \n",
      "       Country                               Region  Population  \\\n",
      "224     Yemen   NEAR EAST                              21456188   \n",
      "225    Zambia   SUB-SAHARAN AFRICA                     11502010   \n",
      "226  Zimbabwe   SUB-SAHARAN AFRICA                     12236805   \n",
      "\n",
      "     Area (sq. mi.)  Pop. Density (per sq. mi.)  Coastline (coast/area ratio)  \\\n",
      "224          527970                        40.6                          0.36   \n",
      "225          752614                        15.3                          0.00   \n",
      "226          390580                        31.3                          0.00   \n",
      "\n",
      "     Net migration  Infant mortality (per 1000 births)  GDP ($ per capita)  \\\n",
      "224            0.0                               61.50                 800   \n",
      "225            0.0                               88.29                 800   \n",
      "226            0.0                               67.69                1900   \n",
      "\n",
      "     Literacy (%)  Phones (per 1000)  Arable (%)  Crops (%)  Other (%)  \\\n",
      "224          50.2               37.2        2.78       0.24      96.98   \n",
      "225          80.6                8.2        7.08       0.03      92.90   \n",
      "226          90.7               26.8        8.32       0.34      91.34   \n",
      "\n",
      "     Climate  Birthrate  Deathrate  Agriculture  Industry  Service  \n",
      "224      1.0      42.89       8.30        0.135     0.472    0.393  \n",
      "225      2.0      41.00      19.93        0.220     0.290    0.489  \n",
      "226      2.0      28.01      21.84        0.179     0.243    0.579  \n"
     ]
    }
   ],
   "source": [
    "#importando o arquivo paises\n",
    "df = pd.read_csv('paises.csv', delimiter = ';')\n",
    "#mostrando as colunas\n",
    "print(df.columns)\n",
    "#mostra os 3 primeiros\n",
    "print(df.head(3))\n",
    "#mostra os 3 ultimos\n",
    "print(df.tail(3))"
   ]
  },
  {
   "cell_type": "markdown",
   "metadata": {},
   "source": [
    "Salvando um novo dataset"
   ]
  },
  {
   "cell_type": "code",
   "execution_count": null,
   "metadata": {},
   "outputs": [
    {
     "name": "stdout",
     "output_type": "stream",
     "text": [
      "0      0.476039\n",
      "1      0.054899\n",
      "2      0.504750\n",
      "3      0.000886\n",
      "4      0.001091\n",
      "         ...   \n",
      "222    0.037714\n",
      "223    0.004185\n",
      "224    0.328879\n",
      "225    0.176302\n",
      "226    0.187565\n",
      "Name: Population, Length: 227, dtype: float64\n",
      "            Country                               Region  Population  \\\n",
      "42           China         ASIA (EX. NEAR EAST)           1313973713   \n",
      "94           India         ASIA (EX. NEAR EAST)           1095351995   \n",
      "214  United States   NORTHERN AMERICA                      298444215   \n",
      "95       Indonesia         ASIA (EX. NEAR EAST)            245452739   \n",
      "27          Brazil               LATIN AMER. & CARIB       188078227   \n",
      "156       Pakistan         ASIA (EX. NEAR EAST)            165803560   \n",
      "\n",
      "     Area (sq. mi.)  Pop. Density (per sq. mi.)  Coastline (coast/area ratio)  \\\n",
      "42          9596960                       136.9                          0.15   \n",
      "94          3287590                       333.2                          0.21   \n",
      "214         9631420                        31.0                          0.21   \n",
      "95          1919440                       127.9                          2.85   \n",
      "27          8511965                        22.1                          0.09   \n",
      "156          803940                       206.2                          0.13   \n",
      "\n",
      "     Net migration  Infant mortality (per 1000 births)  GDP ($ per capita)  \\\n",
      "42           -0.40                               24.18                5000   \n",
      "94           -0.07                               56.29                2900   \n",
      "214           3.41                                6.50               37800   \n",
      "95            0.00                               35.60                3200   \n",
      "27           -0.03                               29.61                7600   \n",
      "156          -2.77                               72.44                2100   \n",
      "\n",
      "     Literacy (%)  ...  Arable (%)  Crops (%)  Other (%)  Climate  Birthrate  \\\n",
      "42           90.9  ...       15.40       1.25      83.35      1.5      13.25   \n",
      "94           59.5  ...       54.40       2.74      42.86      2.5      22.01   \n",
      "214          97.0  ...       19.13       0.22      80.65      3.0      14.14   \n",
      "95           87.9  ...       11.32       7.23      81.45      2.0      20.34   \n",
      "27           86.4  ...        6.96       0.90      92.15      2.0      16.56   \n",
      "156          45.7  ...       27.87       0.87      71.26      1.0      29.74   \n",
      "\n",
      "     Deathrate  Agriculture  Industry  Service  % Population  \n",
      "42        6.97        0.125     0.473    0.403        20.140  \n",
      "94        8.18        0.186     0.276    0.538        16.789  \n",
      "214       8.26        0.010     0.204    0.787         4.575  \n",
      "95        6.25        0.134     0.458    0.408         3.762  \n",
      "27        6.17        0.084     0.400    0.516         2.883  \n",
      "156       8.23        0.216     0.251    0.533         2.541  \n",
      "\n",
      "[6 rows x 21 columns]\n"
     ]
    }
   ],
   "source": [
    "#calculando a % da populacao de cada pais\n",
    "total_population = np.sum(df['Population'])\n",
    "\n",
    "#calculando a porcentagem DE CADA PAIS (broadcasting)\n",
    "seriesPercPopulation = (df['Population']/total_population) * 100\n",
    "print(seriesPercPopulation)\n",
    "\n",
    "#criando uma nova coluna no dataset\n",
    "df['% Population'] = np.round(seriesPercPopulation, 3)\n",
    "\n",
    "#gerando um novo arquivo com a coluna nova\n",
    "df.to_csv('paises2.csv', sep = ';')\n",
    "\n",
    "#pegando os 6 paises mais populosos do planeta\n",
    "print(df.nlargest(6, '% Population'))"
   ]
  },
  {
   "cell_type": "markdown",
   "metadata": {},
   "source": [
    "Agrupamento de dados no Pandas"
   ]
  },
  {
   "cell_type": "code",
   "execution_count": 20,
   "metadata": {},
   "outputs": [
    {
     "name": "stdout",
     "output_type": "stream",
     "text": [
      "Region\n",
      "ASIA (EX. NEAR EAST)                   28\n",
      "BALTICS                                 3\n",
      "C.W. OF IND. STATES                    12\n",
      "EASTERN EUROPE                         12\n",
      "LATIN AMER. & CARIB                    45\n",
      "NEAR EAST                              16\n",
      "NORTHERN AFRICA                         6\n",
      "NORTHERN AMERICA                        5\n",
      "OCEANIA                                21\n",
      "SUB-SAHARAN AFRICA                     51\n",
      "WESTERN EUROPE                         28\n",
      "Name: Country, dtype: int64\n",
      "Region\n",
      "ASIA (EX. NEAR EAST)                   3687982236\n",
      "BALTICS                                   7184974\n",
      "C.W. OF IND. STATES                     280081548\n",
      "EASTERN EUROPE                          119914717\n",
      "LATIN AMER. & CARIB                     561824599\n",
      "NEAR EAST                               195068377\n",
      "NORTHERN AFRICA                         161407133\n",
      "NORTHERN AMERICA                        331672307\n",
      "OCEANIA                                  33131662\n",
      "SUB-SAHARAN AFRICA                      749437000\n",
      "WESTERN EUROPE                          396339998\n",
      "Name: Population, dtype: int64\n"
     ]
    }
   ],
   "source": [
    "#agrupando os dados por regiao\n",
    "group_region = df.groupby('Region')\n",
    "print(group_region.count()['Country'])\n",
    "print(group_region.sum()['Population'])"
   ]
  },
  {
   "cell_type": "markdown",
   "metadata": {},
   "source": [
    "Criando e aplicando métodos customizados no Pandas"
   ]
  },
  {
   "cell_type": "code",
   "execution_count": null,
   "metadata": {},
   "outputs": [
    {
     "name": "stdout",
     "output_type": "stream",
     "text": [
      "     Deathrate  Deathrate\n",
      "0        20.34     18.306\n",
      "1         5.22      4.698\n",
      "2         4.61      4.149\n",
      "3         3.27      2.943\n",
      "4         6.25      5.625\n",
      "..         ...        ...\n",
      "222       3.92      3.528\n",
      "223       0.00      0.000\n",
      "224       8.30      7.470\n",
      "225      19.93     17.937\n",
      "226      21.84     19.656\n",
      "\n",
      "[227 rows x 2 columns]\n"
     ]
    }
   ],
   "source": [
    "#criando um metodo no python\n",
    "def tenpercent(x):\n",
    "    return x * 0.9\n",
    "\n",
    "#pegando a taxa de mortalidade\n",
    "taxa_mortalidade = df['Deathrate']\n",
    "\n",
    "#aplicando a funcao customizada em uma series\n",
    "taxa_mortalidade2 = df['Deathrate'].apply(tenpercent)\n",
    "\n",
    "#juntando duas series\n",
    "print(pd.concat([taxa_mortalidade, taxa_mortalidade2], axis = 1)) #axis = 1 = coluna e axis = 0 = linha\n"
   ]
  }
 ],
 "metadata": {
  "kernelspec": {
   "display_name": "Python 3",
   "language": "python",
   "name": "python3"
  },
  "language_info": {
   "codemirror_mode": {
    "name": "ipython",
    "version": 3
   },
   "file_extension": ".py",
   "mimetype": "text/x-python",
   "name": "python",
   "nbconvert_exporter": "python",
   "pygments_lexer": "ipython3",
   "version": "3.12.4"
  }
 },
 "nbformat": 4,
 "nbformat_minor": 2
}
