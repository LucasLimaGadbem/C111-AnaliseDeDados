{
 "cells": [
  {
   "cell_type": "markdown",
   "metadata": {},
   "source": [
    "# Exercicios"
   ]
  },
  {
   "cell_type": "code",
   "execution_count": 2,
   "metadata": {},
   "outputs": [],
   "source": [
    "import pandas as pd\n",
    "import numpy as np"
   ]
  },
  {
   "cell_type": "markdown",
   "metadata": {},
   "source": [
    "1"
   ]
  },
  {
   "cell_type": "code",
   "execution_count": 29,
   "metadata": {},
   "outputs": [
    {
     "name": "stdout",
     "output_type": "stream",
     "text": [
      "Java      16.25\n",
      "C         16.04\n",
      "Python     9.85\n",
      "dtype: float64\n",
      "C         16.21\n",
      "Python    12.12\n",
      "Java      11.68\n",
      "dtype: float64\n"
     ]
    }
   ],
   "source": [
    "seriesAno1 = pd.Series({'Java' : 16.25, 'C' : 16.04, 'Python' : 9.85})\n",
    "seriesAno2 = pd.Series({'C': 16.21, 'Python': 12.12, 'Java': 11.68})\n",
    "print(seriesAno1)\n",
    "print(seriesAno2)\n",
    "\n",
    "#labels1 = ['Java', 'C', 'Python']\n",
    "#dados1 = [16.25, 16.04, 9.85]\n",
    "#labels2 = ['C', 'Python', 'Java']\n",
    "#dados2 = [16.21, 12.12, 11.68]\n",
    "\n",
    "#seriesAno1 = pd.Series(index = labels1, data = dados1)\n",
    "#seriesAno2 = pd.Series(index = labels2, data = dados2)"
   ]
  },
  {
   "cell_type": "markdown",
   "metadata": {},
   "source": [
    "2"
   ]
  },
  {
   "cell_type": "code",
   "execution_count": 10,
   "metadata": {},
   "outputs": [
    {
     "name": "stdout",
     "output_type": "stream",
     "text": [
      "42.14\n",
      "40.01\n"
     ]
    }
   ],
   "source": [
    "ano1 = np.sum(seriesAno1)\n",
    "ano2 = np.sum(seriesAno2)\n",
    "print(ano1)\n",
    "print(ano2)"
   ]
  },
  {
   "cell_type": "markdown",
   "metadata": {},
   "source": [
    "3"
   ]
  },
  {
   "cell_type": "code",
   "execution_count": 13,
   "metadata": {},
   "outputs": [
    {
     "name": "stdout",
     "output_type": "stream",
     "text": [
      "C         0.17\n",
      "Java     -4.57\n",
      "Python    2.27\n",
      "dtype: float64\n"
     ]
    }
   ],
   "source": [
    "mudanca = seriesAno2 - seriesAno1\n",
    "print(mudanca)\n",
    "\n",
    "#C teve um crescimento\n",
    "#Java teve um declinio\n",
    "#Python teve um crescimento"
   ]
  },
  {
   "cell_type": "markdown",
   "metadata": {},
   "source": [
    "4"
   ]
  },
  {
   "cell_type": "code",
   "execution_count": 14,
   "metadata": {},
   "outputs": [
    {
     "name": "stdout",
     "output_type": "stream",
     "text": [
      "C         0.17\n",
      "Python    2.27\n",
      "dtype: float64\n"
     ]
    }
   ],
   "source": [
    "print(mudanca[mudanca >= 0])"
   ]
  },
  {
   "cell_type": "markdown",
   "metadata": {},
   "source": [
    "5"
   ]
  },
  {
   "cell_type": "code",
   "execution_count": 16,
   "metadata": {},
   "outputs": [
    {
     "name": "stdout",
     "output_type": "stream",
     "text": [
      "Python    16.66\n",
      "dtype: float64\n"
     ]
    }
   ],
   "source": [
    "anos2 = seriesAno2 + (2 * mudanca)\n",
    "print(anos2.nlargest(1))"
   ]
  },
  {
   "cell_type": "markdown",
   "metadata": {},
   "source": [
    "Dataframe 5.3"
   ]
  },
  {
   "cell_type": "code",
   "execution_count": 4,
   "metadata": {},
   "outputs": [
    {
     "name": "stdout",
     "output_type": "stream",
     "text": [
      "    W   X   Y   Z\n",
      "A  10  37  16   1\n",
      "B  29  26  30  49\n",
      "C  30   9  10   1\n",
      "D  43  41  37  17\n",
      "E  37  48  12  25\n"
     ]
    }
   ],
   "source": [
    "# plantando uma semente aleatória\n",
    "np.random.seed(10)\n",
    "# criando um dataframe\n",
    "df = pd.DataFrame(\n",
    "index=['A', 'B', 'C', 'D', 'E'],\n",
    "columns=['W', 'X', 'Y', 'Z'],\n",
    "data=np.random.randint(1, 50, [5, 4]))\n",
    "print(df)"
   ]
  },
  {
   "cell_type": "markdown",
   "metadata": {},
   "source": [
    "6"
   ]
  },
  {
   "cell_type": "code",
   "execution_count": 7,
   "metadata": {},
   "outputs": [
    {
     "name": "stdout",
     "output_type": "stream",
     "text": [
      "32.2\n"
     ]
    }
   ],
   "source": [
    "somar = np.mean(df['X'])\n",
    "print(somar)"
   ]
  },
  {
   "cell_type": "markdown",
   "metadata": {},
   "source": [
    "7"
   ]
  },
  {
   "cell_type": "code",
   "execution_count": 14,
   "metadata": {},
   "outputs": [
    {
     "name": "stdout",
     "output_type": "stream",
     "text": [
      "34.5\n",
      "122\n"
     ]
    }
   ],
   "source": [
    "linhaD = df.loc['D']\n",
    "print(np.mean(linhaD))\n",
    "linhaE = df.iloc[4]\n",
    "print(np.sum(linhaE))"
   ]
  },
  {
   "cell_type": "markdown",
   "metadata": {},
   "source": [
    "8"
   ]
  },
  {
   "cell_type": "code",
   "execution_count": 28,
   "metadata": {},
   "outputs": [
    {
     "name": "stdout",
     "output_type": "stream",
     "text": [
      "    X   Y\n",
      "A  37  16\n",
      "C   9  10\n",
      "E  48  12\n",
      "53\n",
      "19\n",
      "60\n",
      "94\n",
      "38\n"
     ]
    }
   ],
   "source": [
    "matriz = df.loc[['A', 'C', 'E'],['X', 'Y']]\n",
    "print(matriz)\n",
    "\n",
    "for i in range(3):\n",
    "    print(np.sum(matriz.iloc[i]))\n",
    "\n",
    "for i in range(2):\n",
    "    print(np.sum(matriz.iloc[:,i]))\n",
    "\n",
    "#print(matriz)\n",
    "#somaA = np.sum(matriz.iloc[0])\n",
    "#somaC = np.sum(matriz.iloc[1])\n",
    "#somaE = np.sum(matriz.iloc[2])\n",
    "#somaX = np.sum(matriz.iloc[:,0])\n",
    "#somaY = np.sum(matriz.iloc[:,1])\n",
    "#print(somaA)\n",
    "#print(somaC)\n",
    "#print(somaE)\n",
    "#print(somaX)\n",
    "#print(somaY)"
   ]
  }
 ],
 "metadata": {
  "kernelspec": {
   "display_name": "Python 3",
   "language": "python",
   "name": "python3"
  },
  "language_info": {
   "codemirror_mode": {
    "name": "ipython",
    "version": 3
   },
   "file_extension": ".py",
   "mimetype": "text/x-python",
   "name": "python",
   "nbconvert_exporter": "python",
   "pygments_lexer": "ipython3",
   "version": "3.12.4"
  }
 },
 "nbformat": 4,
 "nbformat_minor": 2
}
