{
 "cells": [
  {
   "cell_type": "markdown",
   "metadata": {},
   "source": [
    "# Exercicios"
   ]
  },
  {
   "cell_type": "code",
   "execution_count": 10,
   "metadata": {},
   "outputs": [
    {
     "name": "stdout",
     "output_type": "stream",
     "text": [
      "Index(['Country', 'Region', 'Population', 'Area (sq. mi.)',\n",
      "       'Pop. Density (per sq. mi.)', 'Coastline (coast/area ratio)',\n",
      "       'Net migration', 'Infant mortality (per 1000 births)',\n",
      "       'GDP ($ per capita)', 'Literacy (%)', 'Phones (per 1000)', 'Arable (%)',\n",
      "       'Crops (%)', 'Other (%)', 'Climate', 'Birthrate', 'Deathrate',\n",
      "       'Agriculture', 'Industry', 'Service'],\n",
      "      dtype='object')\n"
     ]
    }
   ],
   "source": [
    "import pandas as pd\n",
    "import numpy as np\n",
    "\n",
    "df = pd.read_csv('paises.csv', delimiter = ';')\n",
    "\n",
    "print(df.columns)"
   ]
  },
  {
   "cell_type": "markdown",
   "metadata": {},
   "source": [
    "1"
   ]
  },
  {
   "cell_type": "code",
   "execution_count": 21,
   "metadata": {},
   "outputs": [
    {
     "name": "stdout",
     "output_type": "stream",
     "text": [
      "['American Samoa ' 'Australia ' 'Cook Islands ' 'Fiji '\n",
      " 'French Polynesia ' 'Guam ' 'Kiribati ' 'Marshall Islands '\n",
      " 'Micronesia, Fed. St. ' 'Nauru ' 'New Caledonia ' 'New Zealand '\n",
      " 'N. Mariana Islands ' 'Palau ' 'Papua New Guinea ' 'Samoa '\n",
      " 'Solomon Islands ' 'Tonga ' 'Tuvalu ' 'Vanuatu ' 'Wallis and Futuna ']\n",
      "21\n"
     ]
    }
   ],
   "source": [
    "# 1- a\n",
    "oceania = df[df['Region'].str.contains('OCEANIA')]\n",
    "print(oceania['Country'].values)\n",
    "\n",
    "# 1 - b\n",
    "print(len(oceania))"
   ]
  },
  {
   "cell_type": "markdown",
   "metadata": {},
   "source": [
    "2"
   ]
  },
  {
   "cell_type": "code",
   "execution_count": 32,
   "metadata": {},
   "outputs": [
    {
     "name": "stdout",
     "output_type": "stream",
     "text": [
      "Pais China  que esta na regiao ASIA (EX. NEAR EAST)         \n"
     ]
    }
   ],
   "source": [
    "maiorPop = df.nlargest(1, 'Population')\n",
    "\n",
    "print(f'Pais {maiorPop['Country'].item()} que esta na regiao {maiorPop['Region'].item()}')"
   ]
  },
  {
   "cell_type": "markdown",
   "metadata": {},
   "source": [
    "3"
   ]
  },
  {
   "cell_type": "code",
   "execution_count": 41,
   "metadata": {},
   "outputs": [
    {
     "name": "stdout",
     "output_type": "stream",
     "text": [
      "Region\n",
      "ASIA (EX. NEAR EAST)                   79.553571\n",
      "BALTICS                                99.733333\n",
      "C.W. OF IND. STATES                    98.725000\n",
      "EASTERN EUROPE                         72.816667\n",
      "LATIN AMER. & CARIB                    88.640000\n",
      "NEAR EAST                              69.581250\n",
      "NORTHERN AFRICA                        56.033333\n",
      "NORTHERN AMERICA                       78.200000\n",
      "OCEANIA                                71.914286\n",
      "SUB-SAHARAN AFRICA                     61.284314\n",
      "WESTERN EUROPE                         80.821429\n",
      "dtype: float64\n"
     ]
    }
   ],
   "source": [
    "group_region = df.groupby('Region')\n",
    "tamanho = group_region.count()['Country']\n",
    "somatoria = group_region.sum()['Literacy (%)']\n",
    "media = somatoria / tamanho\n",
    "print(media)"
   ]
  },
  {
   "cell_type": "markdown",
   "metadata": {},
   "source": [
    "4"
   ]
  },
  {
   "cell_type": "code",
   "execution_count": 50,
   "metadata": {},
   "outputs": [],
   "source": [
    "costa = df['Country'][df['Coastline (coast/area ratio)'] == 0]\n",
    "costa.to_csv('noCoast.csv', sep = ';')"
   ]
  },
  {
   "cell_type": "markdown",
   "metadata": {},
   "source": [
    "5"
   ]
  },
  {
   "cell_type": "code",
   "execution_count": 53,
   "metadata": {},
   "outputs": [
    {
     "name": "stdout",
     "output_type": "stream",
     "text": [
      "0        Urgent\n",
      "1      Balanced\n",
      "2      Balanced\n",
      "3      Balanced\n",
      "4      Balanced\n",
      "         ...   \n",
      "222    Balanced\n",
      "223    Balanced\n",
      "224    Balanced\n",
      "225      Urgent\n",
      "226      Urgent\n",
      "Name: Humanitarian Help, Length: 227, dtype: object\n"
     ]
    }
   ],
   "source": [
    "def humanitarianHelp(deathrate):\n",
    "    if deathrate < 9:\n",
    "        return 'Balanced'\n",
    "    else:\n",
    "        return 'Urgent'\n",
    "\n",
    "df['Humanitarian Help'] = df['Deathrate'].apply(humanitarianHelp)\n",
    "print(df['Humanitarian Help'])"
   ]
  }
 ],
 "metadata": {
  "kernelspec": {
   "display_name": "Python 3",
   "language": "python",
   "name": "python3"
  },
  "language_info": {
   "codemirror_mode": {
    "name": "ipython",
    "version": 3
   },
   "file_extension": ".py",
   "mimetype": "text/x-python",
   "name": "python",
   "nbconvert_exporter": "python",
   "pygments_lexer": "ipython3",
   "version": "3.12.4"
  }
 },
 "nbformat": 4,
 "nbformat_minor": 2
}
