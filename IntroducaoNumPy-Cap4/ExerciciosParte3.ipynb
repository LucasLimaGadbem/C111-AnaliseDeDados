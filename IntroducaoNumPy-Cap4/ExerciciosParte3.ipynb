{
 "cells": [
  {
   "cell_type": "markdown",
   "metadata": {},
   "source": [
    "# Importando as bibliotecas"
   ]
  },
  {
   "cell_type": "code",
   "execution_count": 2,
   "metadata": {},
   "outputs": [],
   "source": [
    "import numpy as np"
   ]
  },
  {
   "cell_type": "markdown",
   "metadata": {},
   "source": [
    "# Importando o dataset"
   ]
  },
  {
   "cell_type": "code",
   "execution_count": 3,
   "metadata": {},
   "outputs": [
    {
     "name": "stdout",
     "output_type": "stream",
     "text": [
      "['\\ufeffNum' 'Company Name' 'Location' 'Datum' 'Detail' 'Status Rocket'\n",
      " ' Cost' 'Status Mission']\n"
     ]
    }
   ],
   "source": [
    "dataset = np.loadtxt('space.csv', delimiter=';', dtype=str, encoding='utf-8')\n",
    "\n",
    "# mostrando o cabeçalho do dataset\n",
    "print(dataset[0,:])"
   ]
  },
  {
   "cell_type": "markdown",
   "metadata": {},
   "source": [
    "Exercicio 1"
   ]
  },
  {
   "cell_type": "code",
   "execution_count": null,
   "metadata": {},
   "outputs": [
    {
     "name": "stdout",
     "output_type": "stream",
     "text": [
      "3879\n",
      "4325\n",
      "89.69%\n"
     ]
    }
   ],
   "source": [
    "# cria um array apenas com o status da missao\n",
    "array = np.asarray(dataset[1:, 7], dtype=str)\n",
    "# verifica se o status da missao é 'Success'\n",
    "arrays = np.char.find(array, 'Success') >= 0\n",
    "# soma os valores do array arrays\n",
    "tamanho = np.sum(arrays)\n",
    "print(tamanho)\n",
    "# tamanho do dataset\n",
    "tam = len(dataset)\n",
    "print(tam)\n",
    "# calcula a porcentagem\n",
    "percent = (tamanho/tam)*100\n",
    "print(f'{percent:.2f}%')"
   ]
  },
  {
   "cell_type": "markdown",
   "metadata": {},
   "source": [
    "Exercicio 2"
   ]
  },
  {
   "cell_type": "code",
   "execution_count": null,
   "metadata": {},
   "outputs": [
    {
     "name": "stdout",
     "output_type": "stream",
     "text": [
      "media: 153.79\n"
     ]
    }
   ],
   "source": [
    "# cria um array apenas com os valores de gasto\n",
    "gasto = np.asarray(dataset[1:, 6], dtype = float)\n",
    "# filtra os valores maiores que 0\n",
    "gastos = gasto[gasto > 0]\n",
    "# calcula a media dos valores\n",
    "media = np.mean(gastos)\n",
    "# imprime a media\n",
    "print(f'media: {media:.2f}')"
   ]
  },
  {
   "cell_type": "markdown",
   "metadata": {},
   "source": [
    "Exercicio 3"
   ]
  },
  {
   "cell_type": "code",
   "execution_count": null,
   "metadata": {},
   "outputs": [
    {
     "name": "stdout",
     "output_type": "stream",
     "text": [
      "1344\n"
     ]
    }
   ],
   "source": [
    "# cria um array apenas as localizações\n",
    "local = np.asarray(dataset[1:, 2], dtype = str)\n",
    "# verifica se a localização é 'USA'\n",
    "new = local[np.char.find(local, 'USA') >= 0]\n",
    "# calcula o tamanho do array\n",
    "tam = len(new)\n",
    "print(tam)"
   ]
  },
  {
   "cell_type": "markdown",
   "metadata": {},
   "source": [
    "Exercicio 4"
   ]
  },
  {
   "cell_type": "code",
   "execution_count": 42,
   "metadata": {},
   "outputs": [
    {
     "name": "stdout",
     "output_type": "stream",
     "text": [
      "Falcon Heavy | STP-2\n"
     ]
    }
   ],
   "source": [
    "# comeca a analisar na segunda linha e todas as colunas\n",
    "# procura a palavra SpaceX na coluna 1 a partir da segunda linha\n",
    "# e retorna o array com os valores encontrados\n",
    "space = dataset[1:][np.char.find(dataset[1:,1], 'SpaceX') >= 0]\n",
    "# analisa a coluna 6 do array space e retorna a linha que esta o maior valor\n",
    "cost = space[:,6].astype(float).argmax()\n",
    "s = space[cost][4]\n",
    "print(s)"
   ]
  },
  {
   "cell_type": "markdown",
   "metadata": {},
   "source": [
    "Exercicio 5"
   ]
  },
  {
   "cell_type": "code",
   "execution_count": null,
   "metadata": {},
   "outputs": [
    {
     "name": "stdout",
     "output_type": "stream",
     "text": [
      "A AEB realizou 3 missoes\n",
      "A AMBA realizou 8 missoes\n",
      "A ASI realizou 9 missoes\n",
      "A Arianespace realizou 279 missoes\n",
      "A Arm??e de l'Air realizou 4 missoes\n",
      "A Blue Origin realizou 12 missoes\n",
      "A Boeing realizou 136 missoes\n",
      "A CASC realizou 251 missoes\n",
      "A CASIC realizou 5 missoes\n",
      "A CECLES realizou 4 missoes\n",
      "A CNES realizou 8 missoes\n",
      "A Douglas realizou 1 missoes\n",
      "A EER realizou 1 missoes\n",
      "A ESA realizou 13 missoes\n",
      "A Eurockot realizou 13 missoes\n",
      "A ExPace realizou 10 missoes\n",
      "A Exos realizou 4 missoes\n",
      "A General Dynamics realizou 251 missoes\n",
      "A IAI realizou 11 missoes\n",
      "A ILS realizou 46 missoes\n",
      "A IRGC realizou 1 missoes\n",
      "A ISA realizou 13 missoes\n",
      "A ISAS realizou 30 missoes\n",
      "A ISRO realizou 76 missoes\n",
      "A JAXA realizou 7 missoes\n",
      "A KARI realizou 3 missoes\n",
      "A KCST realizou 5 missoes\n",
      "A Khrunichev realizou 1 missoes\n",
      "A Kosmotras realizou 22 missoes\n",
      "A Land Launch realizou 7 missoes\n",
      "A Landspace realizou 1 missoes\n",
      "A Lockheed realizou 79 missoes\n",
      "A MHI realizou 84 missoes\n",
      "A MITT realizou 7 missoes\n",
      "A Martin Marietta realizou 114 missoes\n",
      "A NASA realizou 203 missoes\n",
      "A Northrop realizou 83 missoes\n",
      "A OKB-586 realizou 2 missoes\n",
      "A OneSpace realizou 1 missoes\n",
      "A RAE realizou 2 missoes\n",
      "A RVSN USSR realizou 1777 missoes\n",
      "A Rocket Lab realizou 13 missoes\n",
      "A Roscosmos realizou 55 missoes\n",
      "A SRC realizou 3 missoes\n",
      "A Sandia realizou 1 missoes\n",
      "A Sea Launch realizou 36 missoes\n",
      "A SpaceX realizou 100 missoes\n",
      "A Starsem realizou 1 missoes\n",
      "A ULA realizou 140 missoes\n",
      "A US Air Force realizou 161 missoes\n",
      "A US Navy realizou 17 missoes\n",
      "A UT realizou 5 missoes\n",
      "A VKS RF realizou 201 missoes\n",
      "A Virgin Orbit realizou 1 missoes\n",
      "A Yuzhmash realizou 2 missoes\n",
      "A i-Space realizou 1 missoes\n"
     ]
    }
   ],
   "source": [
    "# analisa quais empresas apareceram no dataset e quantas vezes\n",
    "empresas, qtdMissoes = np.unique(dataset[1:, 1], return_counts= True)\n",
    "\n",
    "# imprime o resultado\n",
    "for count in range(0, len(empresas)):\n",
    "    print(f'A {empresas[count]} realizou {qtdMissoes[count]} missoes')"
   ]
  }
 ],
 "metadata": {
  "kernelspec": {
   "display_name": "Python 3",
   "language": "python",
   "name": "python3"
  },
  "language_info": {
   "codemirror_mode": {
    "name": "ipython",
    "version": 3
   },
   "file_extension": ".py",
   "mimetype": "text/x-python",
   "name": "python",
   "nbconvert_exporter": "python",
   "pygments_lexer": "ipython3",
   "version": "3.12.4"
  }
 },
 "nbformat": 4,
 "nbformat_minor": 2
}
