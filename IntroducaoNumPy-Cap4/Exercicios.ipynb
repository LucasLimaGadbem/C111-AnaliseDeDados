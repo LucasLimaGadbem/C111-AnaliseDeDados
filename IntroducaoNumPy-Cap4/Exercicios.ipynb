{
 "cells": [
  {
   "cell_type": "markdown",
   "metadata": {},
   "source": [
    "## Exercicios parte 1"
   ]
  },
  {
   "cell_type": "code",
   "execution_count": 2,
   "metadata": {},
   "outputs": [],
   "source": [
    "import numpy as np"
   ]
  },
  {
   "cell_type": "markdown",
   "metadata": {},
   "source": [
    "1-a"
   ]
  },
  {
   "cell_type": "code",
   "execution_count": 16,
   "metadata": {},
   "outputs": [
    {
     "name": "stdout",
     "output_type": "stream",
     "text": [
      "[1. 1. 1. 1. 1. 1. 1. 1.]\n",
      "[9 7 3 8 4 6 2 4]\n",
      "51.0\n",
      "[[10.  8.  4.  9.]\n",
      " [ 5.  7.  3.  5.]]\n"
     ]
    }
   ],
   "source": [
    "ar1 = np.ones(8)\n",
    "ar = np.random.randint(0,10,8)\n",
    "soma = ar1 + ar\n",
    "if soma.sum() >= 40:\n",
    "    matriz = soma.reshape(2,4)\n",
    "else:\n",
    "    matriz = soma.reshape(4,2)\n",
    "print(ar1)\n",
    "print(ar)\n",
    "print(soma.sum())\n",
    "print(matriz)"
   ]
  },
  {
   "cell_type": "markdown",
   "metadata": {},
   "source": [
    "2"
   ]
  },
  {
   "cell_type": "code",
   "execution_count": 40,
   "metadata": {},
   "outputs": [
    {
     "name": "stdout",
     "output_type": "stream",
     "text": [
      "[ 0  2  4  6  8 10 12 14 16 18 20 22 24 26 28 30 32 34 36 38 40 42 44 46\n",
      " 48 50]\n",
      "[ 52  54  56  58  60  62  64  66  68  70  72  74  76  78  80  82  84  86\n",
      "  88  90  92  94  96  98 100]\n",
      "[  0   2   4   6   8  10  12  14  16  18  20  22  24  26  28  30  32  34\n",
      "  36  38  40  42  44  46  48  50  52  54  56  58  60  62  64  66  68  70\n",
      "  72  74  76  78  80  82  84  86  88  90  92  94  96  98 100]\n"
     ]
    }
   ],
   "source": [
    "array = np.arange(26)\n",
    "for i in range(52):\n",
    "    if i % 2 == 0:\n",
    "        a = int(i/2)\n",
    "        array[a] = i\n",
    "\n",
    "arr  = np.arange(25)\n",
    "for i in range(51,101):\n",
    "    if i % 2 == 0:\n",
    "        a = int((i-50)/2)\n",
    "        arr[a-1] = i\n",
    "\n",
    "juncao = np.concatenate((array,arr))\n",
    "print(array)\n",
    "print(arr)\n",
    "print(juncao)"
   ]
  },
  {
   "cell_type": "markdown",
   "metadata": {},
   "source": [
    "3"
   ]
  },
  {
   "cell_type": "code",
   "execution_count": null,
   "metadata": {},
   "outputs": [
    {
     "name": "stdout",
     "output_type": "stream",
     "text": [
      "[[0. 1.]\n",
      " [0. 0.]]\n",
      "Nao era bomba!\n",
      "Você já escolheu essa posição! Tente novamente!\n",
      "Você já escolheu essa posição! Tente novamente!\n",
      "Nao era bomba!\n",
      "Você errou! Tente novamente!\n"
     ]
    }
   ],
   "source": [
    "#a\n",
    "campo = np.zeros((2,2))\n",
    "#b\n",
    "linhas = np.random.randint(0,2)\n",
    "colunas = np.random.randint(0,2)\n",
    "campo[linhas][colunas] = 1\n",
    "print(campo)\n",
    "\n",
    "#c -1\n",
    "flag = True\n",
    "\n",
    "while flag:\n",
    "    soma = campo.sum()\n",
    "    if soma != 7:\n",
    "        linha = int(input(\"Digite a linha: \"))\n",
    "        coluna = int(input(\"Digite a coluna: \"))\n",
    "        if campo[linha][coluna] == 2:\n",
    "            print(\"Você já escolheu essa posição! Tente novamente!\")\n",
    "        \n",
    "        elif campo[linha][coluna] == 0:\n",
    "            campo[linha][coluna] = 2\n",
    "            print(\"Nao era bomba!\")\n",
    "        else:\n",
    "            print(\"Game Over! :( Try Again!\")\n",
    "            flag = False\n",
    "    else:\n",
    "        print(\"Congratulations! You beat the game! :)\")\n",
    "        flag = False\n",
    "#c - 2"
   ]
  },
  {
   "cell_type": "markdown",
   "metadata": {},
   "source": [
    "## Exercicios parte 2"
   ]
  },
  {
   "cell_type": "markdown",
   "metadata": {},
   "source": [
    "4"
   ]
  },
  {
   "cell_type": "code",
   "execution_count": null,
   "metadata": {},
   "outputs": [],
   "source": []
  },
  {
   "cell_type": "markdown",
   "metadata": {},
   "source": [
    "5"
   ]
  },
  {
   "cell_type": "code",
   "execution_count": null,
   "metadata": {},
   "outputs": [],
   "source": [
    "#a\n",
    "\n",
    "#b\n",
    "\n",
    "#c"
   ]
  },
  {
   "cell_type": "markdown",
   "metadata": {},
   "source": [
    "## Exercicios parte 3"
   ]
  },
  {
   "cell_type": "markdown",
   "metadata": {},
   "source": [
    "1"
   ]
  },
  {
   "cell_type": "code",
   "execution_count": null,
   "metadata": {},
   "outputs": [],
   "source": []
  },
  {
   "cell_type": "markdown",
   "metadata": {},
   "source": [
    "2"
   ]
  },
  {
   "cell_type": "code",
   "execution_count": null,
   "metadata": {},
   "outputs": [],
   "source": []
  },
  {
   "cell_type": "markdown",
   "metadata": {},
   "source": [
    "3"
   ]
  },
  {
   "cell_type": "code",
   "execution_count": null,
   "metadata": {},
   "outputs": [],
   "source": []
  },
  {
   "cell_type": "markdown",
   "metadata": {},
   "source": [
    "4"
   ]
  },
  {
   "cell_type": "code",
   "execution_count": null,
   "metadata": {},
   "outputs": [],
   "source": []
  },
  {
   "cell_type": "markdown",
   "metadata": {},
   "source": [
    "5"
   ]
  },
  {
   "cell_type": "code",
   "execution_count": null,
   "metadata": {},
   "outputs": [],
   "source": []
  }
 ],
 "metadata": {
  "kernelspec": {
   "display_name": "Python 3",
   "language": "python",
   "name": "python3"
  },
  "language_info": {
   "codemirror_mode": {
    "name": "ipython",
    "version": 3
   },
   "file_extension": ".py",
   "mimetype": "text/x-python",
   "name": "python",
   "nbconvert_exporter": "python",
   "pygments_lexer": "ipython3",
   "version": "3.12.4"
  }
 },
 "nbformat": 4,
 "nbformat_minor": 2
}
