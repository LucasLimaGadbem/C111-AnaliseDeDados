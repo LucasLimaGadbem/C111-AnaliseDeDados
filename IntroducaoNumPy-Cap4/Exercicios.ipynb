{
 "cells": [
  {
   "cell_type": "markdown",
   "metadata": {},
   "source": [
    "## Exercicios parte 1"
   ]
  },
  {
   "cell_type": "code",
   "execution_count": 2,
   "metadata": {},
   "outputs": [],
   "source": [
    "import numpy as np"
   ]
  },
  {
   "cell_type": "markdown",
   "metadata": {},
   "source": [
    "1-a"
   ]
  },
  {
   "cell_type": "code",
   "execution_count": 16,
   "metadata": {},
   "outputs": [
    {
     "name": "stdout",
     "output_type": "stream",
     "text": [
      "[1. 1. 1. 1. 1. 1. 1. 1.]\n",
      "[9 7 3 8 4 6 2 4]\n",
      "51.0\n",
      "[[10.  8.  4.  9.]\n",
      " [ 5.  7.  3.  5.]]\n"
     ]
    }
   ],
   "source": [
    "ar1 = np.ones(8)\n",
    "ar = np.random.randint(0,10,8)\n",
    "soma = ar1 + ar\n",
    "if soma.sum() >= 40:\n",
    "    matriz = soma.reshape(2,4)\n",
    "else:\n",
    "    matriz = soma.reshape(4,2)\n",
    "print(ar1)\n",
    "print(ar)\n",
    "print(soma.sum())\n",
    "print(matriz)"
   ]
  },
  {
   "cell_type": "markdown",
   "metadata": {},
   "source": [
    "2"
   ]
  },
  {
   "cell_type": "code",
   "execution_count": 40,
   "metadata": {},
   "outputs": [
    {
     "name": "stdout",
     "output_type": "stream",
     "text": [
      "[ 0  2  4  6  8 10 12 14 16 18 20 22 24 26 28 30 32 34 36 38 40 42 44 46\n",
      " 48 50]\n",
      "[ 52  54  56  58  60  62  64  66  68  70  72  74  76  78  80  82  84  86\n",
      "  88  90  92  94  96  98 100]\n",
      "[  0   2   4   6   8  10  12  14  16  18  20  22  24  26  28  30  32  34\n",
      "  36  38  40  42  44  46  48  50  52  54  56  58  60  62  64  66  68  70\n",
      "  72  74  76  78  80  82  84  86  88  90  92  94  96  98 100]\n"
     ]
    }
   ],
   "source": [
    "array = np.arange(26)\n",
    "for i in range(52):\n",
    "    if i % 2 == 0:\n",
    "        a = int(i/2)\n",
    "        array[a] = i\n",
    "\n",
    "arr  = np.arange(25)\n",
    "for i in range(51,101):\n",
    "    if i % 2 == 0:\n",
    "        a = int((i-50)/2)\n",
    "        arr[a-1] = i\n",
    "\n",
    "juncao = np.concatenate((array,arr))\n",
    "print(array)\n",
    "print(arr)\n",
    "print(juncao)"
   ]
  },
  {
   "cell_type": "markdown",
   "metadata": {},
   "source": [
    "3"
   ]
  },
  {
   "cell_type": "code",
   "execution_count": 54,
   "metadata": {},
   "outputs": [
    {
     "name": "stdout",
     "output_type": "stream",
     "text": [
      "[[0. 0.]\n",
      " [1. 0.]]\n",
      "Nao era bomba!\n",
      "Nao era bomba!\n",
      "Você já escolheu essa posição! Tente novamente!\n",
      "Nao era bomba!\n",
      "Congratulations! You beat the game! :)\n"
     ]
    }
   ],
   "source": [
    "#a\n",
    "campo = np.zeros((2,2))\n",
    "#b\n",
    "linhas = np.random.randint(0,2)\n",
    "colunas = np.random.randint(0,2)\n",
    "campo[linhas][colunas] = 1\n",
    "print(campo)\n",
    "\n",
    "#c\n",
    "flag = True\n",
    "\n",
    "while flag:\n",
    "    soma = campo.sum()\n",
    "    if soma != 7:\n",
    "        linha = int(input(\"Digite a linha: \"))\n",
    "        coluna = int(input(\"Digite a coluna: \"))\n",
    "        if campo[linha][coluna] == 2:\n",
    "            print(\"Você já escolheu essa posição! Tente novamente!\")\n",
    "        \n",
    "        elif campo[linha][coluna] == 0:\n",
    "            campo[linha][coluna] = 2\n",
    "            print(\"Nao era bomba!\")\n",
    "        else:\n",
    "            print(\"Game Over! :( Try Again!\")\n",
    "            flag = False\n",
    "    else:\n",
    "        print(\"Congratulations! You beat the game! :)\")\n",
    "        flag = False"
   ]
  },
  {
   "cell_type": "markdown",
   "metadata": {},
   "source": [
    "## Exercicios parte 2"
   ]
  },
  {
   "cell_type": "markdown",
   "metadata": {},
   "source": [
    "4"
   ]
  },
  {
   "cell_type": "code",
   "execution_count": 38,
   "metadata": {},
   "outputs": [
    {
     "name": "stdout",
     "output_type": "stream",
     "text": [
      "5 3\n",
      "A matriz é impar\n"
     ]
    }
   ],
   "source": [
    "linhas = np.random.randint(2,6)\n",
    "colunas = np.random.randint(2,6)\n",
    "matriz = np.random.randint(0,10,(linhas,colunas))\n",
    "print(linhas, colunas)\n",
    "multiplicacao = linhas * colunas\n",
    "if multiplicacao % 2 == 0:\n",
    "    print(\"A matriz é par\")\n",
    "else:\n",
    "    print(\"A matriz é impar\")"
   ]
  },
  {
   "cell_type": "markdown",
   "metadata": {},
   "source": [
    "5"
   ]
  },
  {
   "cell_type": "code",
   "execution_count": 50,
   "metadata": {},
   "outputs": [
    {
     "name": "stdout",
     "output_type": "stream",
     "text": [
      "Matriz:\n",
      "[[10 37 16  1]\n",
      " [50 29 26 30]\n",
      " [49 30 50  9]\n",
      " [10  1 43 41]]\n",
      "\n",
      "Médias das linhas: [16.   33.75 34.5  23.75]\n",
      "Médias das colunas: [29.75 24.25 33.75 20.25]\n",
      "\n",
      "Maior média das linhas: 34.5\n",
      "Maior média das colunas: 33.75\n",
      "\n",
      "Frequência dos números na matriz: {1: 2, 9: 1, 10: 2, 16: 1, 26: 1, 29: 1, 30: 2, 37: 1, 41: 1, 43: 1, 49: 1, 50: 2}\n",
      "\n",
      "Números que aparecem exatamente 2 vezes: {1: 2, 10: 2, 30: 2, 50: 2}\n"
     ]
    }
   ],
   "source": [
    "import numpy as np\n",
    "\n",
    "# Definir seed para reprodutibilidade\n",
    "np.random.seed(10)\n",
    "\n",
    "# Criar matriz 4x4 com números aleatórios entre 1 e 50\n",
    "matriz = np.random.randint(1, 51, (4, 4))\n",
    "print(\"Matriz:\")\n",
    "print(matriz)\n",
    "\n",
    "# a) Calcular a média de cada linha e coluna\n",
    "medias_linhas = np.mean(matriz, axis=1)\n",
    "medias_colunas = np.mean(matriz, axis=0)\n",
    "print(\"\\nMédias das linhas:\", medias_linhas)\n",
    "print(\"Médias das colunas:\", medias_colunas)\n",
    "\n",
    "# b) Maior valor entre as médias das linhas e colunas\n",
    "maior_media_linhas = np.max(medias_linhas)\n",
    "maior_media_colunas = np.max(medias_colunas)\n",
    "print(\"\\nMaior média das linhas:\", maior_media_linhas)\n",
    "print(\"Maior média das colunas:\", maior_media_colunas)\n",
    "\n",
    "# c) Contagem de aparições de cada número na matriz\n",
    "valores, contagens = np.unique(matriz, return_counts=True)\n",
    "contador = {int(num): int(freq) for num, freq in zip(valores, contagens)}\n",
    "print(\"\\nFrequência dos números na matriz:\", contador)\n",
    "\n",
    "# Filtrar apenas os números que aparecem exatamente 2 vezes\n",
    "numeros_duplicados = {num: freq for num, freq in contador.items() if freq == 2}\n",
    "print(\"\\nNúmeros que aparecem exatamente 2 vezes:\", numeros_duplicados)\n"
   ]
  }
 ],
 "metadata": {
  "kernelspec": {
   "display_name": "Python 3",
   "language": "python",
   "name": "python3"
  },
  "language_info": {
   "codemirror_mode": {
    "name": "ipython",
    "version": 3
   },
   "file_extension": ".py",
   "mimetype": "text/x-python",
   "name": "python",
   "nbconvert_exporter": "python",
   "pygments_lexer": "ipython3",
   "version": "3.12.4"
  }
 },
 "nbformat": 4,
 "nbformat_minor": 2
}
