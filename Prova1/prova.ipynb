{
 "cells": [
  {
   "cell_type": "markdown",
   "metadata": {},
   "source": [
    "Importando biblioteca e dataset"
   ]
  },
  {
   "cell_type": "code",
   "execution_count": 125,
   "metadata": {},
   "outputs": [],
   "source": [
    "import numpy as np\n",
    "\n",
    "dataset = np.loadtxt('social_media.csv', delimiter = ';', dtype = str, encoding = 'utf-8')"
   ]
  },
  {
   "cell_type": "markdown",
   "metadata": {},
   "source": [
    "Questao 1"
   ]
  },
  {
   "cell_type": "code",
   "execution_count": 131,
   "metadata": {},
   "outputs": [
    {
     "name": "stdout",
     "output_type": "stream",
     "text": [
      "['Australia' 'Brazil' 'Canada' 'Germany' 'India' 'Japan' 'UK' 'USA']\n",
      "[602 641 658 566 617 592 647 677]\n",
      "numero de posts do Brazil e [[641]]\n"
     ]
    }
   ],
   "source": [
    "paises, numero = np.unique(dataset[1:,4], return_counts = True)\n",
    "p = np.argwhere(paises == 'Brazil')\n",
    "print(paises)\n",
    "print(numero)\n",
    "print(f'numero de posts do Brazil e {numero[p]}')"
   ]
  },
  {
   "cell_type": "markdown",
   "metadata": {},
   "source": [
    "Questao 2"
   ]
  },
  {
   "cell_type": "code",
   "execution_count": 127,
   "metadata": {},
   "outputs": [
    {
     "name": "stdout",
     "output_type": "stream",
     "text": [
      "a porcentagem e 10.50%\n"
     ]
    }
   ],
   "source": [
    "education = len(dataset[np.char.find(dataset[:, 2],'Education') >= 0]) \n",
    "quantidade = len(dataset)\n",
    "porcentagem = (education / quantidade) * 100\n",
    "print(f'a porcentagem e {porcentagem:.2f}%')"
   ]
  },
  {
   "cell_type": "markdown",
   "metadata": {},
   "source": [
    "Questao 3"
   ]
  },
  {
   "cell_type": "code",
   "execution_count": 128,
   "metadata": {},
   "outputs": [
    {
     "name": "stdout",
     "output_type": "stream",
     "text": [
      "media de views 2404079.88\n",
      "media de likes 257118.22\n"
     ]
    }
   ],
   "source": [
    "views = dataset[np.char.find(dataset[:, 1], 'Instagram') >= 0][:,5].astype(float)\n",
    "likes = dataset[np.char.find(dataset[:, 1], 'Instagram') >= 0][:,6].astype(float)\n",
    "mediaViews = np.mean(views)\n",
    "mediaLikes = np.mean(likes)\n",
    "print(f'media de views {mediaViews:.2f}')\n",
    "print(f'media de likes {mediaLikes:.2f}')\n",
    "\n",
    "#dicionario(chave : valor)\n",
    "#insercao dicionario[mediaViews] = mediaLikes"
   ]
  },
  {
   "cell_type": "markdown",
   "metadata": {},
   "source": [
    "Questao 4"
   ]
  },
  {
   "cell_type": "code",
   "execution_count": 129,
   "metadata": {},
   "outputs": [
    {
     "name": "stdout",
     "output_type": "stream",
     "text": [
      "A plataforma YouTube foi a que teve maior numero de posts com 1324\n"
     ]
    }
   ],
   "source": [
    "plataforma, posts = np.unique(dataset[1:, 1], return_counts=True)\n",
    "maisPosts = np.argmax(posts)\n",
    "maiorNumeroPosts = posts[3]\n",
    "maiorNumeroPlataforma = plataforma[3]\n",
    "print(f'A plataforma {maiorNumeroPlataforma} foi a que teve maior numero de posts com {maiorNumeroPosts}')"
   ]
  },
  {
   "cell_type": "markdown",
   "metadata": {},
   "source": [
    "Questao 5"
   ]
  },
  {
   "cell_type": "code",
   "execution_count": 130,
   "metadata": {},
   "outputs": [
    {
     "name": "stdout",
     "output_type": "stream",
     "text": [
      "Germany\n"
     ]
    }
   ],
   "source": [
    "like = np.asarray(dataset[1:, 6], dtype=float)\n",
    "regiao = np.asarray(dataset[1:, 4], dtype=str)\n",
    "maiorLike = np.argmax(like)\n",
    "re = regiao[maiorLike]\n",
    "print(re)"
   ]
  }
 ],
 "metadata": {
  "kernelspec": {
   "display_name": "Python 3",
   "language": "python",
   "name": "python3"
  },
  "language_info": {
   "codemirror_mode": {
    "name": "ipython",
    "version": 3
   },
   "file_extension": ".py",
   "mimetype": "text/x-python",
   "name": "python",
   "nbconvert_exporter": "python",
   "pygments_lexer": "ipython3",
   "version": "3.12.4"
  }
 },
 "nbformat": 4,
 "nbformat_minor": 2
}
