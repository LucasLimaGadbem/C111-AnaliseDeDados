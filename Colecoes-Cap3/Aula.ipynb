{
 "cells": [
  {
   "cell_type": "markdown",
   "metadata": {},
   "source": [
    "## Tuplas"
   ]
  },
  {
   "cell_type": "code",
   "execution_count": 19,
   "metadata": {},
   "outputs": [
    {
     "name": "stdout",
     "output_type": "stream",
     "text": [
      "('Goku', 'Vegeta', 'Trunks', 'Gohan')\n",
      "Goku\n",
      "('Goku', 'Vegeta')\n",
      "('Trunks', 'Gohan')\n",
      "('Vegeta', 'Trunks')\n",
      "Gohan\n"
     ]
    }
   ],
   "source": [
    "nomes = ('Goku', 'Vegeta', 'Trunks', 'Gohan') #como é tupla ()\n",
    "print(nomes)\n",
    "#SLICING DE DADOS\n",
    "print(nomes[0]) #GOKU\n",
    "# no python, o primeiro indice de uma colecao é INCLUSIVE\n",
    "# e o segundo indice EXCLUSIVE\n",
    "print(nomes[:2]) #GOKU E VEGETA\n",
    "print(nomes[2:]) #TRUNKS E GOHAN\n",
    "print(nomes[1:3]) #VEGETA E TRUNKS\n",
    "print(nomes[-1]) #GOHAN"
   ]
  },
  {
   "cell_type": "code",
   "execution_count": 20,
   "metadata": {},
   "outputs": [
    {
     "ename": "TypeError",
     "evalue": "'tuple' object does not support item assignment",
     "output_type": "error",
     "traceback": [
      "\u001b[1;31m---------------------------------------------------------------------------\u001b[0m",
      "\u001b[1;31mTypeError\u001b[0m                                 Traceback (most recent call last)",
      "Cell \u001b[1;32mIn[20], line 2\u001b[0m\n\u001b[0;32m      1\u001b[0m \u001b[38;5;66;03m#tentando alterar uma tupla\u001b[39;00m\n\u001b[1;32m----> 2\u001b[0m \u001b[43mnomes\u001b[49m\u001b[43m[\u001b[49m\u001b[38;5;241;43m0\u001b[39;49m\u001b[43m]\u001b[49m \u001b[38;5;241m=\u001b[39m \u001b[38;5;124m'\u001b[39m\u001b[38;5;124mBulma\u001b[39m\u001b[38;5;124m'\u001b[39m\n\u001b[0;32m      3\u001b[0m \u001b[38;5;28mprint\u001b[39m(nomes)\n\u001b[0;32m      5\u001b[0m \u001b[38;5;66;03m#NAO SE DA PARA ALTERAR UMA TUPLA\u001b[39;00m\n",
      "\u001b[1;31mTypeError\u001b[0m: 'tuple' object does not support item assignment"
     ]
    }
   ],
   "source": [
    "#tentando alterar uma tupla\n",
    "nomes[0] = 'Bulma'\n",
    "print(nomes)\n",
    "\n",
    "#NAO SE DA PARA ALTERAR UMA TUPLA"
   ]
  },
  {
   "cell_type": "markdown",
   "metadata": {},
   "source": [
    "## Listas"
   ]
  },
  {
   "cell_type": "code",
   "execution_count": null,
   "metadata": {},
   "outputs": [
    {
     "name": "stdout",
     "output_type": "stream",
     "text": [
      "['Goku', 'Vegeta', 'Piccolo', 'Trunks', 'Gohan', 'Bulma']\n",
      "['Goten', 'Piccolo', 'Gohan', 'Bulma']\n",
      "Piccolo is here!!!\n"
     ]
    }
   ],
   "source": [
    "nomes = ['Goku', 'Vegeta', 'Trunks', 'Gohan'] #como é lista []\n",
    "#INSERT\n",
    "nomes.append('Bulma') #insere no final\n",
    "nomes.insert(2, 'Piccolo') #insere em uma posicao especifica\n",
    "print(nomes)\n",
    "\n",
    "#UPDATE\n",
    "nomes[0] = 'Goten' #trocou Goku por Goten\n",
    "\n",
    "#DELETE\n",
    "del nomes[1] #excluindo pelo indice / nomes.pop(1)\n",
    "nomes.remove('Trunks') #removendo o Trunks\n",
    "\n",
    "print(nomes)\n",
    "\n",
    "if 'Piccolo' in nomes:\n",
    "    print('Piccolo is here!!!')\n",
    "\n",
    "#nomes.sort() crescente\n",
    "#nomes.sort(reverse=True) decrescente"
   ]
  },
  {
   "cell_type": "markdown",
   "metadata": {},
   "source": [
    "## Conjuntos"
   ]
  },
  {
   "cell_type": "code",
   "execution_count": 47,
   "metadata": {},
   "outputs": [
    {
     "name": "stdout",
     "output_type": "stream",
     "text": [
      "{'Gohan', 'Trunks', 'Goku', 'Vegeta'}\n",
      "{'Kami', 'Trunks', 'Gohan', 'Goku'}\n"
     ]
    }
   ],
   "source": [
    "nomes = {'Goku', 'Vegeta', 'Trunks', 'Gohan', 'Trunks', 'Goku'} #como é conjunto {}\n",
    "print(nomes)\n",
    "#nao guarda ordem\n",
    "\n",
    "#ADICIONAR\n",
    "nomes.add('Kami')\n",
    "\n",
    "#DELETE\n",
    "nomes.remove('Vegeta')\n",
    "\n",
    "#UPDATE ?? nao existe update em conjuntos\n",
    "#se quiser fazer tem que remover e adicionar\n",
    "\n",
    "print(nomes)"
   ]
  },
  {
   "cell_type": "code",
   "execution_count": 48,
   "metadata": {},
   "outputs": [
    {
     "name": "stdout",
     "output_type": "stream",
     "text": [
      "{1, 2, 4, 5, 6}\n",
      "{2, 6}\n",
      "{4}\n"
     ]
    }
   ],
   "source": [
    "a = {2, 4, 6}\n",
    "b = {1, 4, 5}\n",
    "\n",
    "z = a |b #uniao\n",
    "print(z)\n",
    "z = a - b #diferenca\n",
    "print(z)\n",
    "z = a & b #intersecao\n",
    "print(z)\n",
    "\n"
   ]
  },
  {
   "cell_type": "markdown",
   "metadata": {},
   "source": [
    "## Dicionario"
   ]
  },
  {
   "cell_type": "code",
   "execution_count": 52,
   "metadata": {},
   "outputs": [
    {
     "name": "stdout",
     "output_type": "stream",
     "text": [
      "{'nome': 'Goku', 'idade': 42}\n",
      "Goku\n",
      "{'nome': 'Vegeta', 'sexo': 'M'}\n"
     ]
    }
   ],
   "source": [
    "#(chave : valor)\n",
    "pessoa = {'nome':'Goku', 'idade':42}\n",
    "print(pessoa)\n",
    "\n",
    "#ACESSAR\n",
    "print(pessoa['nome']) #mostra o valor que tem a chave nome\n",
    "#INSERIR\n",
    "pessoa['sexo'] = 'M'\n",
    "#UPDATE\n",
    "pessoa['nome'] = 'Vegeta'\n",
    "#DELETAR\n",
    "del pessoa['idade']\n",
    "\n",
    "print(pessoa)"
   ]
  }
 ],
 "metadata": {
  "kernelspec": {
   "display_name": "Python 3",
   "language": "python",
   "name": "python3"
  },
  "language_info": {
   "codemirror_mode": {
    "name": "ipython",
    "version": 3
   },
   "file_extension": ".py",
   "mimetype": "text/x-python",
   "name": "python",
   "nbconvert_exporter": "python",
   "pygments_lexer": "ipython3",
   "version": "3.12.4"
  }
 },
 "nbformat": 4,
 "nbformat_minor": 2
}
