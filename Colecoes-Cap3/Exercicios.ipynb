{
 "cells": [
  {
   "cell_type": "markdown",
   "metadata": {},
   "source": [
    "## Exercicio 1"
   ]
  },
  {
   "cell_type": "code",
   "execution_count": null,
   "metadata": {},
   "outputs": [
    {
     "name": "stdout",
     "output_type": "stream",
     "text": [
      "['Real Madrid', 'Barcelona', 'Manchester City']\n",
      "['Bayern Munich', 'PSG']\n",
      "['Barcelona', 'Bayern Munich', 'Manchester City', 'PSG', 'Real Madrid']\n",
      "Barcelona esta na posicao 0\n"
     ]
    }
   ],
   "source": [
    "lista = ['Real Madrid', 'Barcelona', 'Manchester City', 'Bayern Munich', 'PSG']\n",
    "print(lista[:3])    \n",
    "print(lista[-2:])\n",
    "lista.sort()\n",
    "print(lista)\n",
    "for i in lista:\n",
    "    if i == 'Barcelona':\n",
    "        print(f'Barcelona esta na posicao {lista.index(i)}')"
   ]
  },
  {
   "cell_type": "markdown",
   "metadata": {},
   "source": [
    "## Exercicio 2"
   ]
  },
  {
   "cell_type": "code",
   "execution_count": null,
   "metadata": {},
   "outputs": [
    {
     "name": "stdout",
     "output_type": "stream",
     "text": [
      "{'Motorola', 'LG', 'Xiaomi', 'Samsung', 'Apple'}\n",
      "{'Xiaomi'}\n"
     ]
    }
   ],
   "source": [
    "loja1 = {'Samsung', 'Apple', 'Xiaomi'}\n",
    "loja2 = {'Motorola', 'Xiaomi', 'LG'}\n",
    "\n",
    "print(loja1 | loja2)\n",
    "print(loja1 & loja2)"
   ]
  },
  {
   "cell_type": "markdown",
   "metadata": {},
   "source": [
    "## Exercicio 3"
   ]
  },
  {
   "cell_type": "code",
   "execution_count": 12,
   "metadata": {},
   "outputs": [
    {
     "name": "stdout",
     "output_type": "stream",
     "text": [
      "{'nome': 'Lucas', 'media': 49.0, 'situacao': 'Reprovado'}\n"
     ]
    }
   ],
   "source": [
    "nome = input('Digite seu nome: ')\n",
    "media = float(input('Digite sua media: '))\n",
    "\n",
    "dicionario = {'nome': nome, 'media': media}\n",
    "\n",
    "if dicionario['media'] >= 50:\n",
    "    situacao = 'Aprovado'\n",
    "    dicionario['situacao'] = situacao\n",
    "else:\n",
    "    situacao = 'Reprovado'\n",
    "    dicionario['situacao'] = situacao\n",
    "\n",
    "print(dicionario)   "
   ]
  },
  {
   "cell_type": "markdown",
   "metadata": {},
   "source": [
    "## Exercicio 4"
   ]
  },
  {
   "cell_type": "code",
   "execution_count": 20,
   "metadata": {},
   "outputs": [
    {
     "name": "stdout",
     "output_type": "stream",
     "text": [
      "Pessoa de maior peso: vini\n",
      "Pessoa de menor peso: vitoria\n"
     ]
    }
   ],
   "source": [
    "nomes = []\n",
    "pesos = []\n",
    "\n",
    "for i in range(3):\n",
    "    nome = input('Digite seu nome: ')\n",
    "    nomes.append(nome)\n",
    "    peso = float(input('Digite seu peso: '))\n",
    "    pesos.append(peso)\n",
    "\n",
    "maior = pesos.index(max(pesos))\n",
    "menor = pesos.index(min(pesos))\n",
    "print('Pessoa de maior peso: ' + nomes[maior])\n",
    "print('Pessoa de menor peso: ' + nomes[menor])\n",
    "\n"
   ]
  },
  {
   "cell_type": "markdown",
   "metadata": {},
   "source": [
    "## Exercicio 5"
   ]
  },
  {
   "cell_type": "code",
   "execution_count": 22,
   "metadata": {},
   "outputs": [
    {
     "name": "stdout",
     "output_type": "stream",
     "text": [
      "Media de idade: 18.0\n",
      "Quantidade de mulheres: 2\n"
     ]
    }
   ],
   "source": [
    "numero = int(input('Digite um numero: '))\n",
    "pessoas = []\n",
    "\n",
    "for i in range(numero):\n",
    "    nome = input('Digite seu nome: ')\n",
    "    idade = int(input('Digite sua idade: '))\n",
    "    sexo = input('Digite seu sexo (M/F): ')\n",
    "    pessoas.append({'nome': nome, 'idade': idade, 'sexo': sexo})\n",
    "\n",
    "media = sum([i['idade'] for i in pessoas]) / numero\n",
    "print(f'Media de idade: {media}')\n",
    "print(f'Quantidade de mulheres: {len([i for i in pessoas if i[\"sexo\"] == \"F\" and i[\"idade\"] < 20])}')"
   ]
  }
 ],
 "metadata": {
  "kernelspec": {
   "display_name": "Python 3",
   "language": "python",
   "name": "python3"
  },
  "language_info": {
   "codemirror_mode": {
    "name": "ipython",
    "version": 3
   },
   "file_extension": ".py",
   "mimetype": "text/x-python",
   "name": "python",
   "nbconvert_exporter": "python",
   "pygments_lexer": "ipython3",
   "version": "3.12.4"
  }
 },
 "nbformat": 4,
 "nbformat_minor": 2
}
